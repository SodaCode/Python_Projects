{
 "cells": [
  {
   "cell_type": "code",
   "execution_count": 5,
   "metadata": {},
   "outputs": [],
   "source": [
    "import pandas as pd\n",
    "import numpy as np"
   ]
  },
  {
   "cell_type": "markdown",
   "metadata": {},
   "source": [
    "# Create our dataset"
   ]
  },
  {
   "cell_type": "code",
   "execution_count": 56,
   "metadata": {},
   "outputs": [],
   "source": [
    "def get_dataset(size):\n",
    "    # Create Fake Dataset\n",
    "    df = pd.DataFrame()\n",
    "    df['size'] = np.random.choice(['big', 'medium', 'small'], size)\n",
    "    df['age'] = np.random.randint(1, 50, size)\n",
    "    df['team'] = np.random.choice(['red', 'blue', 'yellow', 'green'], size)\n",
    "    df['win'] = np.random.choice(['yes', 'no', size])\n",
    "    dates = pd.date_range('2020-01-01', '2022-12-31')\n",
    "    df['date'] = np.random.choice(dates, size)\n",
    "    df['prob'] = np.random.uniform(0, 1, size)\n",
    "    return df\n",
    "\n",
    "def set_dtypes(df):\n",
    "    df['size'] = df['size'].astype('category')\n",
    "    df['team'] = df['team'].astype('category')\n",
    "    df['age'] = df['age'].astype('int16')\n",
    "    df['win'] = df['win'].map({'yes' : True, 'no' : False})\n",
    "    df['prob'] = df['prob'].astype('float16')\n",
    "    return df\n"
   ]
  },
  {
   "cell_type": "markdown",
   "metadata": {},
   "source": [
    "# CSV\n",
    "- 46 MB\n",
    "- 3.23s to save\n",
    "- 0.6s to read"
   ]
  },
  {
   "cell_type": "code",
   "execution_count": 67,
   "metadata": {},
   "outputs": [
    {
     "name": "stdout",
     "output_type": "stream",
     "text": [
      "3.23 s ± 34.3 ms per loop (mean ± std. dev. of 7 runs, 1 loop each)\n"
     ]
    }
   ],
   "source": [
    "%%timeit\n",
    "df = get_dataset(1_000_000)\n",
    "df.to_csv('test_csv.csv', index=True)"
   ]
  },
  {
   "cell_type": "code",
   "execution_count": 50,
   "metadata": {},
   "outputs": [
    {
     "name": "stdout",
     "output_type": "stream",
     "text": [
      "564 ms ± 13 ms per loop (mean ± std. dev. of 7 runs, 1 loop each)\n"
     ]
    }
   ],
   "source": [
    "%%timeit\n",
    "df = pd.read_csv('test_csv.csv', index_col=[0])"
   ]
  },
  {
   "cell_type": "code",
   "execution_count": 51,
   "metadata": {},
   "outputs": [
    {
     "data": {
      "text/html": [
       "<div>\n",
       "<style scoped>\n",
       "    .dataframe tbody tr th:only-of-type {\n",
       "        vertical-align: middle;\n",
       "    }\n",
       "\n",
       "    .dataframe tbody tr th {\n",
       "        vertical-align: top;\n",
       "    }\n",
       "\n",
       "    .dataframe thead th {\n",
       "        text-align: right;\n",
       "    }\n",
       "</style>\n",
       "<table border=\"1\" class=\"dataframe\">\n",
       "  <thead>\n",
       "    <tr style=\"text-align: right;\">\n",
       "      <th></th>\n",
       "      <th>size</th>\n",
       "      <th>age</th>\n",
       "      <th>team</th>\n",
       "      <th>win</th>\n",
       "      <th>date</th>\n",
       "      <th>prob</th>\n",
       "    </tr>\n",
       "  </thead>\n",
       "  <tbody>\n",
       "    <tr>\n",
       "      <th>0</th>\n",
       "      <td>big</td>\n",
       "      <td>36</td>\n",
       "      <td>blue</td>\n",
       "      <td>yes</td>\n",
       "      <td>2022-05-12</td>\n",
       "      <td>0.040263</td>\n",
       "    </tr>\n",
       "    <tr>\n",
       "      <th>1</th>\n",
       "      <td>medium</td>\n",
       "      <td>41</td>\n",
       "      <td>yellow</td>\n",
       "      <td>yes</td>\n",
       "      <td>2021-10-05</td>\n",
       "      <td>0.320839</td>\n",
       "    </tr>\n",
       "    <tr>\n",
       "      <th>2</th>\n",
       "      <td>big</td>\n",
       "      <td>41</td>\n",
       "      <td>yellow</td>\n",
       "      <td>yes</td>\n",
       "      <td>2022-10-07</td>\n",
       "      <td>0.726127</td>\n",
       "    </tr>\n",
       "    <tr>\n",
       "      <th>3</th>\n",
       "      <td>medium</td>\n",
       "      <td>12</td>\n",
       "      <td>red</td>\n",
       "      <td>yes</td>\n",
       "      <td>2022-08-31</td>\n",
       "      <td>0.356284</td>\n",
       "    </tr>\n",
       "    <tr>\n",
       "      <th>4</th>\n",
       "      <td>big</td>\n",
       "      <td>39</td>\n",
       "      <td>green</td>\n",
       "      <td>yes</td>\n",
       "      <td>2022-09-03</td>\n",
       "      <td>0.353293</td>\n",
       "    </tr>\n",
       "  </tbody>\n",
       "</table>\n",
       "</div>"
      ],
      "text/plain": [
       "     size  age    team  win       date      prob\n",
       "0     big   36    blue  yes 2022-05-12  0.040263\n",
       "1  medium   41  yellow  yes 2021-10-05  0.320839\n",
       "2     big   41  yellow  yes 2022-10-07  0.726127\n",
       "3  medium   12     red  yes 2022-08-31  0.356284\n",
       "4     big   39   green  yes 2022-09-03  0.353293"
      ]
     },
     "execution_count": 51,
     "metadata": {},
     "output_type": "execute_result"
    }
   ],
   "source": [
    "df.head()"
   ]
  },
  {
   "cell_type": "code",
   "execution_count": 57,
   "metadata": {},
   "outputs": [
    {
     "name": "stdout",
     "output_type": "stream",
     "text": [
      "<class 'pandas.core.frame.DataFrame'>\n",
      "RangeIndex: 1000000 entries, 0 to 999999\n",
      "Data columns (total 6 columns):\n",
      " #   Column  Non-Null Count    Dtype         \n",
      "---  ------  --------------    -----         \n",
      " 0   size    1000000 non-null  category      \n",
      " 1   age     1000000 non-null  int16         \n",
      " 2   team    1000000 non-null  category      \n",
      " 3   win     1000000 non-null  bool          \n",
      " 4   date    1000000 non-null  datetime64[ns]\n",
      " 5   prob    1000000 non-null  float16       \n",
      "dtypes: bool(1), category(2), datetime64[ns](1), float16(1), int16(1)\n",
      "memory usage: 14.3 MB\n"
     ]
    }
   ],
   "source": [
    "df = get_dataset(1_000_000)\n",
    "df = set_dtypes(df)\n",
    "df.info()"
   ]
  },
  {
   "cell_type": "markdown",
   "metadata": {},
   "source": []
  },
  {
   "cell_type": "code",
   "execution_count": 58,
   "metadata": {},
   "outputs": [],
   "source": [
    "df.to_csv('test_csv.csv', index=False)\n",
    "df = pd.read_csv('test_csv.csv')"
   ]
  },
  {
   "cell_type": "code",
   "execution_count": 59,
   "metadata": {},
   "outputs": [
    {
     "name": "stdout",
     "output_type": "stream",
     "text": [
      "<class 'pandas.core.frame.DataFrame'>\n",
      "RangeIndex: 1000000 entries, 0 to 999999\n",
      "Data columns (total 6 columns):\n",
      " #   Column  Non-Null Count    Dtype  \n",
      "---  ------  --------------    -----  \n",
      " 0   size    1000000 non-null  object \n",
      " 1   age     1000000 non-null  int64  \n",
      " 2   team    1000000 non-null  object \n",
      " 3   win     1000000 non-null  bool   \n",
      " 4   date    1000000 non-null  object \n",
      " 5   prob    1000000 non-null  float64\n",
      "dtypes: bool(1), float64(1), int64(1), object(3)\n",
      "memory usage: 39.1+ MB\n"
     ]
    }
   ],
   "source": [
    "df.info()"
   ]
  },
  {
   "cell_type": "code",
   "execution_count": 63,
   "metadata": {},
   "outputs": [
    {
     "name": "stdout",
     "output_type": "stream",
     "text": [
      "<class 'pandas.core.frame.DataFrame'>\n",
      "RangeIndex: 1000000 entries, 0 to 999999\n",
      "Data columns (total 6 columns):\n",
      " #   Column  Non-Null Count    Dtype   \n",
      "---  ------  --------------    -----   \n",
      " 0   size    1000000 non-null  category\n",
      " 1   age     1000000 non-null  int16   \n",
      " 2   team    1000000 non-null  category\n",
      " 3   win     1000000 non-null  bool    \n",
      " 4   date    1000000 non-null  object  \n",
      " 5   prob    1000000 non-null  float16 \n",
      "dtypes: bool(1), category(2), float16(1), int16(1), object(1)\n",
      "memory usage: 14.3+ MB\n"
     ]
    }
   ],
   "source": [
    "df = pd.read_csv('test_csv.csv',\n",
    "                 dtype={'size':'category',\n",
    "                        'age':'int16',\n",
    "                        'team':'category',\n",
    "                        'prob':'float16',})\n",
    "df.info()"
   ]
  },
  {
   "cell_type": "markdown",
   "metadata": {},
   "source": [
    "# Pickle\n",
    "- 0.5s to write\n",
    "- 0.2s to read"
   ]
  },
  {
   "cell_type": "code",
   "execution_count": 72,
   "metadata": {},
   "outputs": [
    {
     "name": "stdout",
     "output_type": "stream",
     "text": [
      "538 ms ± 21.9 ms per loop (mean ± std. dev. of 7 runs, 1 loop each)\n",
      "241 ms ± 17.8 ms per loop (mean ± std. dev. of 7 runs, 1 loop each)\n"
     ]
    }
   ],
   "source": [
    "df = get_dataset(1_000_000)\n",
    "%timeit df.to_pickle('test.pickle')\n",
    "%timeit df_pickle = pd.read_pickle('test.pickle')"
   ]
  },
  {
   "cell_type": "code",
   "execution_count": 73,
   "metadata": {},
   "outputs": [
    {
     "name": "stdout",
     "output_type": "stream",
     "text": [
      "The slowest run took 10.24 times longer than the fastest. This could mean that an intermediate result is being cached.\n",
      "12.7 ms ± 17.2 ms per loop (mean ± std. dev. of 7 runs, 100 loops each)\n",
      "3.57 ms ± 297 µs per loop (mean ± std. dev. of 7 runs, 100 loops each)\n"
     ]
    }
   ],
   "source": [
    "df = get_dataset(1_000_000)\n",
    "df = set_dtypes(df)\n",
    "%timeit df.to_pickle('test.pickle')\n",
    "%timeit df_pickle = pd.read_pickle('test.pickle')"
   ]
  },
  {
   "cell_type": "code",
   "execution_count": 74,
   "metadata": {},
   "outputs": [
    {
     "name": "stdout",
     "output_type": "stream",
     "text": [
      "<class 'pandas.core.frame.DataFrame'>\n",
      "RangeIndex: 1000000 entries, 0 to 999999\n",
      "Data columns (total 6 columns):\n",
      " #   Column  Non-Null Count    Dtype         \n",
      "---  ------  --------------    -----         \n",
      " 0   size    1000000 non-null  category      \n",
      " 1   age     1000000 non-null  int16         \n",
      " 2   team    1000000 non-null  category      \n",
      " 3   win     1000000 non-null  bool          \n",
      " 4   date    1000000 non-null  datetime64[ns]\n",
      " 5   prob    1000000 non-null  float16       \n",
      "dtypes: bool(1), category(2), datetime64[ns](1), float16(1), int16(1)\n",
      "memory usage: 14.3 MB\n"
     ]
    }
   ],
   "source": [
    "df.info()"
   ]
  },
  {
   "cell_type": "markdown",
   "metadata": {},
   "source": [
    "# Parquet\n",
    "```\n",
    "!pip install pyarrow\n",
    "!pip install fastparquet\n",
    "```\n"
   ]
  },
  {
   "cell_type": "code",
   "execution_count": 76,
   "metadata": {},
   "outputs": [
    {
     "name": "stdout",
     "output_type": "stream",
     "text": [
      "Collecting pyarrow\n",
      "  Downloading pyarrow-14.0.0-cp311-cp311-win_amd64.whl (24.6 MB)\n",
      "                                              0.0/24.6 MB ? eta -:--:--\n",
      "                                              0.0/24.6 MB ? eta -:--:--\n",
      "                                              0.1/24.6 MB 1.2 MB/s eta 0:00:22\n",
      "                                              0.4/24.6 MB 3.2 MB/s eta 0:00:08\n",
      "     -                                        0.6/24.6 MB 3.9 MB/s eta 0:00:07\n",
      "     -                                        0.9/24.6 MB 4.3 MB/s eta 0:00:06\n",
      "     -                                        1.2/24.6 MB 4.6 MB/s eta 0:00:06\n",
      "     --                                       1.5/24.6 MB 4.9 MB/s eta 0:00:05\n",
      "     --                                       1.7/24.6 MB 5.0 MB/s eta 0:00:05\n",
      "     ---                                      2.0/24.6 MB 5.1 MB/s eta 0:00:05\n",
      "     ---                                      2.2/24.6 MB 5.1 MB/s eta 0:00:05\n",
      "     ----                                     2.5/24.6 MB 5.1 MB/s eta 0:00:05\n",
      "     ----                                     2.8/24.6 MB 5.2 MB/s eta 0:00:05\n",
      "     ----                                     3.0/24.6 MB 5.2 MB/s eta 0:00:05\n",
      "     -----                                    3.3/24.6 MB 5.4 MB/s eta 0:00:04\n",
      "     -----                                    3.6/24.6 MB 5.4 MB/s eta 0:00:04\n",
      "     ------                                   3.9/24.6 MB 5.5 MB/s eta 0:00:04\n",
      "     ------                                   4.2/24.6 MB 5.4 MB/s eta 0:00:04\n",
      "     -------                                  4.4/24.6 MB 5.5 MB/s eta 0:00:04\n",
      "     -------                                  4.7/24.6 MB 5.5 MB/s eta 0:00:04\n",
      "     --------                                 4.9/24.6 MB 5.5 MB/s eta 0:00:04\n",
      "     --------                                 5.2/24.6 MB 5.5 MB/s eta 0:00:04\n",
      "     --------                                 5.5/24.6 MB 5.6 MB/s eta 0:00:04\n",
      "     ---------                                5.7/24.6 MB 5.5 MB/s eta 0:00:04\n",
      "     ---------                                6.0/24.6 MB 5.6 MB/s eta 0:00:04\n",
      "     ----------                               6.3/24.6 MB 5.6 MB/s eta 0:00:04\n",
      "     ----------                               6.6/24.6 MB 5.6 MB/s eta 0:00:04\n",
      "     -----------                              6.8/24.6 MB 5.6 MB/s eta 0:00:04\n",
      "     -----------                              7.1/24.6 MB 5.6 MB/s eta 0:00:04\n",
      "     -----------                              7.4/24.6 MB 5.6 MB/s eta 0:00:04\n",
      "     ------------                             7.6/24.6 MB 5.6 MB/s eta 0:00:04\n",
      "     ------------                             7.9/24.6 MB 5.6 MB/s eta 0:00:03\n",
      "     -------------                            8.2/24.6 MB 5.6 MB/s eta 0:00:03\n",
      "     -------------                            8.4/24.6 MB 5.6 MB/s eta 0:00:03\n",
      "     --------------                           8.7/24.6 MB 5.6 MB/s eta 0:00:03\n",
      "     --------------                           8.9/24.6 MB 5.6 MB/s eta 0:00:03\n",
      "     ---------------                          9.2/24.6 MB 5.6 MB/s eta 0:00:03\n",
      "     ---------------                          9.5/24.6 MB 5.6 MB/s eta 0:00:03\n",
      "     ---------------                          9.7/24.6 MB 5.6 MB/s eta 0:00:03\n",
      "     ----------------                         10.0/24.6 MB 5.6 MB/s eta 0:00:03\n",
      "     ----------------                         10.2/24.6 MB 5.6 MB/s eta 0:00:03\n",
      "     ----------------                         10.4/24.6 MB 5.7 MB/s eta 0:00:03\n",
      "     -----------------                        10.7/24.6 MB 5.7 MB/s eta 0:00:03\n",
      "     -----------------                        10.9/24.6 MB 5.7 MB/s eta 0:00:03\n",
      "     ------------------                       11.2/24.6 MB 5.7 MB/s eta 0:00:03\n",
      "     ------------------                       11.4/24.6 MB 5.7 MB/s eta 0:00:03\n",
      "     -------------------                      11.7/24.6 MB 5.7 MB/s eta 0:00:03\n",
      "     -------------------                      11.9/24.6 MB 5.7 MB/s eta 0:00:03\n",
      "     -------------------                      12.2/24.6 MB 5.6 MB/s eta 0:00:03\n",
      "     --------------------                     12.4/24.6 MB 5.6 MB/s eta 0:00:03\n",
      "     --------------------                     12.6/24.6 MB 5.6 MB/s eta 0:00:03\n",
      "     ---------------------                    12.9/24.6 MB 5.6 MB/s eta 0:00:03\n",
      "     ---------------------                    13.2/24.6 MB 5.6 MB/s eta 0:00:03\n",
      "     ---------------------                    13.4/24.6 MB 5.6 MB/s eta 0:00:02\n",
      "     ----------------------                   13.7/24.6 MB 5.6 MB/s eta 0:00:02\n",
      "     ----------------------                   13.9/24.6 MB 5.6 MB/s eta 0:00:02\n",
      "     -----------------------                  14.2/24.6 MB 5.6 MB/s eta 0:00:02\n",
      "     -----------------------                  14.5/24.6 MB 5.6 MB/s eta 0:00:02\n",
      "     ------------------------                 14.7/24.6 MB 5.6 MB/s eta 0:00:02\n",
      "     ------------------------                 15.0/24.6 MB 5.6 MB/s eta 0:00:02\n",
      "     ------------------------                 15.3/24.6 MB 5.6 MB/s eta 0:00:02\n",
      "     -------------------------                15.6/24.6 MB 5.6 MB/s eta 0:00:02\n",
      "     -------------------------                15.9/24.6 MB 5.6 MB/s eta 0:00:02\n",
      "     --------------------------               16.2/24.6 MB 5.6 MB/s eta 0:00:02\n",
      "     --------------------------               16.5/24.6 MB 5.6 MB/s eta 0:00:02\n",
      "     ---------------------------              16.8/24.6 MB 5.6 MB/s eta 0:00:02\n",
      "     ---------------------------              17.0/24.6 MB 5.7 MB/s eta 0:00:02\n",
      "     ----------------------------             17.3/24.6 MB 5.6 MB/s eta 0:00:02\n",
      "     ----------------------------             17.6/24.6 MB 5.6 MB/s eta 0:00:02\n",
      "     -----------------------------            17.8/24.6 MB 5.7 MB/s eta 0:00:02\n",
      "     -----------------------------            18.1/24.6 MB 5.6 MB/s eta 0:00:02\n",
      "     -----------------------------            18.4/24.6 MB 5.7 MB/s eta 0:00:02\n",
      "     ------------------------------           18.7/24.6 MB 5.6 MB/s eta 0:00:02\n",
      "     ------------------------------           18.9/24.6 MB 5.7 MB/s eta 0:00:01\n",
      "     -------------------------------          19.2/24.6 MB 5.7 MB/s eta 0:00:01\n",
      "     -------------------------------          19.4/24.6 MB 5.7 MB/s eta 0:00:01\n",
      "     --------------------------------         19.7/24.6 MB 5.7 MB/s eta 0:00:01\n",
      "     --------------------------------         20.0/24.6 MB 5.7 MB/s eta 0:00:01\n",
      "     --------------------------------         20.3/24.6 MB 5.7 MB/s eta 0:00:01\n",
      "     ---------------------------------        20.5/24.6 MB 5.7 MB/s eta 0:00:01\n",
      "     ---------------------------------        20.8/24.6 MB 5.7 MB/s eta 0:00:01\n",
      "     ----------------------------------       21.0/24.6 MB 5.7 MB/s eta 0:00:01\n",
      "     ----------------------------------       21.3/24.6 MB 5.7 MB/s eta 0:00:01\n",
      "     -----------------------------------      21.6/24.6 MB 5.8 MB/s eta 0:00:01\n",
      "     -----------------------------------      21.9/24.6 MB 5.8 MB/s eta 0:00:01\n",
      "     ------------------------------------     22.1/24.6 MB 5.8 MB/s eta 0:00:01\n",
      "     ------------------------------------     22.4/24.6 MB 5.8 MB/s eta 0:00:01\n",
      "     ------------------------------------     22.7/24.6 MB 5.8 MB/s eta 0:00:01\n",
      "     -------------------------------------    22.9/24.6 MB 5.8 MB/s eta 0:00:01\n",
      "     -------------------------------------    23.2/24.6 MB 5.8 MB/s eta 0:00:01\n",
      "     --------------------------------------   23.5/24.6 MB 5.8 MB/s eta 0:00:01\n",
      "     --------------------------------------   23.8/24.6 MB 5.8 MB/s eta 0:00:01\n",
      "     ---------------------------------------  24.0/24.6 MB 5.9 MB/s eta 0:00:01\n",
      "     ---------------------------------------  24.3/24.6 MB 5.9 MB/s eta 0:00:01\n",
      "     ---------------------------------------  24.5/24.6 MB 5.9 MB/s eta 0:00:01\n",
      "     ---------------------------------------  24.6/24.6 MB 5.8 MB/s eta 0:00:01\n",
      "     ---------------------------------------  24.6/24.6 MB 5.8 MB/s eta 0:00:01\n",
      "     ---------------------------------------  24.6/24.6 MB 5.8 MB/s eta 0:00:01\n",
      "     ---------------------------------------  24.6/24.6 MB 5.8 MB/s eta 0:00:01\n",
      "     ---------------------------------------- 24.6/24.6 MB 5.2 MB/s eta 0:00:00\n",
      "Requirement already satisfied: numpy>=1.16.6 in c:\\users\\dominc\\appdata\\local\\packages\\pythonsoftwarefoundation.python.3.11_qbz5n2kfra8p0\\localcache\\local-packages\\python311\\site-packages (from pyarrow) (1.24.2)\n",
      "Installing collected packages: pyarrow\n",
      "Successfully installed pyarrow-14.0.0\n"
     ]
    },
    {
     "name": "stderr",
     "output_type": "stream",
     "text": [
      "\n",
      "[notice] A new release of pip is available: 23.1 -> 23.3.1\n",
      "[notice] To update, run: C:\\Users\\Dominc\\AppData\\Local\\Microsoft\\WindowsApps\\PythonSoftwareFoundation.Python.3.11_qbz5n2kfra8p0\\python.exe -m pip install --upgrade pip\n"
     ]
    }
   ],
   "source": [
    "!pip install pyarrow"
   ]
  },
  {
   "cell_type": "code",
   "execution_count": 78,
   "metadata": {},
   "outputs": [
    {
     "name": "stdout",
     "output_type": "stream",
     "text": [
      "377 ms ± 5.08 ms per loop (mean ± std. dev. of 7 runs, 1 loop each)\n",
      "156 ms ± 751 µs per loop (mean ± std. dev. of 7 runs, 10 loops each)\n"
     ]
    }
   ],
   "source": [
    "df = get_dataset(1_000_000)\n",
    "%timeit df.to_parquet('test.parquet')\n",
    "%timeit df_parquet = pd.read_parquet('test.parquet')"
   ]
  },
  {
   "cell_type": "code",
   "execution_count": 82,
   "metadata": {},
   "outputs": [],
   "source": [
    "# Read in specific columns\n",
    "df_example = pd.read_parquet('test.parquet', columns=['date', 'win'])"
   ]
  },
  {
   "cell_type": "markdown",
   "metadata": {},
   "source": [
    "# Feather\n",
    "- 0.2s write\n",
    "- 0.1s read"
   ]
  },
  {
   "cell_type": "code",
   "execution_count": 83,
   "metadata": {},
   "outputs": [
    {
     "name": "stdout",
     "output_type": "stream",
     "text": [
      "196 ms ± 6.95 ms per loop (mean ± std. dev. of 7 runs, 1 loop each)\n",
      "119 ms ± 1.59 ms per loop (mean ± std. dev. of 7 runs, 10 loops each)\n"
     ]
    }
   ],
   "source": [
    "df = get_dataset(1_000_000)\n",
    "%timeit df.to_feather('test.feather')\n",
    "%timeit df_feather = pd.read_feather('test.feather')"
   ]
  }
 ],
 "metadata": {
  "kernelspec": {
   "display_name": "Python 3",
   "language": "python",
   "name": "python3"
  },
  "language_info": {
   "codemirror_mode": {
    "name": "ipython",
    "version": 3
   },
   "file_extension": ".py",
   "mimetype": "text/x-python",
   "name": "python",
   "nbconvert_exporter": "python",
   "pygments_lexer": "ipython3",
   "version": "3.11.6"
  }
 },
 "nbformat": 4,
 "nbformat_minor": 2
}
